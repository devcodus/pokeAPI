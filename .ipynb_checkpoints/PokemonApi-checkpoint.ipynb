{
 "cells": [
  {
   "cell_type": "markdown",
   "id": "7196054f",
   "metadata": {},
   "source": [
    "# Working with APIs"
   ]
  },
  {
   "cell_type": "markdown",
   "id": "0547b71e",
   "metadata": {},
   "source": [
    "API stands for Application programming interface<br>\n",
    "APIs are a way for applications to talk to eachother<br>\n",
    "In python we use the requests package to handle the connection<br>\n",
    "<small><strong>Note: It is requests with an s not request(this is a different package)</strong></small><br>\n",
    "Most API's communicate with data in the form of JSON<br>\n",
    "JSON stands for JavaScript Object Notation"
   ]
  },
  {
   "cell_type": "code",
   "execution_count": 13,
   "id": "4db9d154",
   "metadata": {},
   "outputs": [],
   "source": [
    "#import the packages we need:\n",
    "import requests, json\n"
   ]
  },
  {
   "cell_type": "markdown",
   "id": "e8c2ce51",
   "metadata": {},
   "source": [
    "We will be connecting to the Ergast F1 Racer API today:\n",
    "http://ergast.com/mrd/\n",
    "\n",
    "to view JSON data nicely in the Chrome browser install the extension JSONview"
   ]
  },
  {
   "cell_type": "code",
   "execution_count": 3,
   "id": "52c440c6",
   "metadata": {},
   "outputs": [],
   "source": [
    "url = \"http://ergast.com/api/f1/2008/5/driverStandings.json\""
   ]
  },
  {
   "cell_type": "code",
   "execution_count": null,
   "id": "145b940d",
   "metadata": {},
   "outputs": [],
   "source": []
  },
  {
   "cell_type": "code",
   "execution_count": 17,
   "id": "f60c1b4a",
   "metadata": {},
   "outputs": [
    {
     "name": "stdout",
     "output_type": "stream",
     "text": [
      "<Response [200]>\n",
      "<class 'requests.models.Response'>\n"
     ]
    }
   ],
   "source": [
    "response = requests.get(url)\n",
    "print(response)\n",
    "print(type(response))"
   ]
  },
  {
   "cell_type": "code",
   "execution_count": 16,
   "id": "7b63a204",
   "metadata": {},
   "outputs": [],
   "source": [
    "#response object\n",
    "response.ok\n",
    "response.status_code\n",
    "if response.ok:\n",
    "    data = response.json()\n",
    "#     print(data)\n",
    "    drivers = data['MRData']['StandingsTable']['StandingsLists'][0]['DriverStandings']"
   ]
  },
  {
   "cell_type": "code",
   "execution_count": 3,
   "id": "c6d1fdaf",
   "metadata": {},
   "outputs": [],
   "source": [
    "#check and make sure we got a successful response from the API\n"
   ]
  },
  {
   "cell_type": "code",
   "execution_count": 4,
   "id": "ed4d3256",
   "metadata": {},
   "outputs": [],
   "source": [
    "#view the response as a JSON\n"
   ]
  },
  {
   "cell_type": "code",
   "execution_count": null,
   "id": "92e6cd2c",
   "metadata": {},
   "outputs": [],
   "source": []
  },
  {
   "cell_type": "code",
   "execution_count": 5,
   "id": "f074dfcf",
   "metadata": {},
   "outputs": [],
   "source": [
    "# We only want the Driver Standings\n"
   ]
  },
  {
   "cell_type": "code",
   "execution_count": null,
   "id": "be46a950",
   "metadata": {},
   "outputs": [],
   "source": []
  },
  {
   "cell_type": "code",
   "execution_count": null,
   "id": "3740c752",
   "metadata": {},
   "outputs": [],
   "source": []
  },
  {
   "cell_type": "markdown",
   "id": "6d546014",
   "metadata": {},
   "source": [
    "# <strong>Homework</strong>\n",
    "check out this Pokemon API https://pokeapi.co/\n",
    "Use the requests package to connect to this API and get and store data for 5 different pokemon.\n",
    "Get the pokemons: name, atleast one ability's name, base_experience, and the URL for its sprite (an image that shows up on screen) for the 'front_shiny', attack base_state, hp base_stat, defense base_stat"
   ]
  },
  {
   "cell_type": "code",
   "execution_count": 48,
   "id": "5a9081e3",
   "metadata": {
    "scrolled": false
   },
   "outputs": [
    {
     "data": {
      "text/plain": [
       "{'name': 'defense', 'url': 'https://pokeapi.co/api/v2/stat/3/'}"
      ]
     },
     "execution_count": 48,
     "metadata": {},
     "output_type": "execute_result"
    }
   ],
   "source": [
    "import requests, json\n",
    "\n",
    "CharizardUrl=\"https://pokeapi.co/api/v2/pokemon/charizard\"\n",
    "# MewUrl = 'https://pokeapi.co/api/v2/pokemon/mew'\n",
    "# PikachuUrl = 'https://pokeapi.co/api/v2/pokemon/pikachu'\n",
    "# ArcanineUrl = 'https://pokeapi.co/api/v2/pokemon/arcanine'\n",
    "# PidgeottoUrl = 'https://pokeapi.co/api/v2/pokemon/pidgeotto'\n",
    "\n",
    "response = requests.get(PidgeottoUrl)\n",
    "\n",
    "# print(response)\n",
    "# response.ok\n",
    "response.json()\n",
    "\n",
    "# ## CHARIZARD\n",
    "\n",
    "abilityName = response.json()['abilities'][1]['ability']['name']\n",
    "abilityName\n",
    "\n",
    "baseXP = response.json()['base_experience']\n",
    "baseXP\n",
    "\n",
    "shiny = response.json()[\"sprites\"]['front_shiny']\n",
    "shiny\n",
    "\n",
    "attack = response.json()['stats'][1]['stat']\n",
    "attack\n",
    "\n",
    "hp = response.json()['stats'][0]['stat']\n",
    "hp\n",
    "\n",
    "defense = response.json()['stats'][2]['stat']\n",
    "defense\n",
    "\n",
    "## MEW\n",
    "\n",
    "# abilityName = response.json()['abilities'][0]['ability']['name']\n",
    "# abilityName\n",
    "\n",
    "# baseXP = response.json()['base_experience']\n",
    "# baseXP\n",
    "\n",
    "# shiny = response.json()['sprites']['front_shiny']\n",
    "# shiny\n",
    "\n",
    "# attack = response.json()['stats'][1]['stat']\n",
    "# attack\n",
    "\n",
    "# hp = response.json()['stats'][0]['stat']\n",
    "# hp\n",
    "\n",
    "# defense = response.json()['stats'][2]['stat']\n",
    "# defense\n",
    "\n",
    "## PIKACHU\n",
    "\n",
    "# abilityName = response.json()['abilities'][0]['ability']['name']\n",
    "# abilityName\n",
    "\n",
    "# baseXP = response.json()['base_experience']\n",
    "# baseXP\n",
    "\n",
    "# shiny = response.json()['sprites']['front_shiny']\n",
    "# shiny\n",
    "\n",
    "# attack = response.json()['stats'][1]['stat']\n",
    "# attack\n",
    "\n",
    "# hp = response.json()['stats'][0]['stat']\n",
    "# hp\n",
    "\n",
    "# defense = response.json()['stats'][2]['stat']\n",
    "# defense\n",
    "\n",
    "#ARCANINE\n",
    "\n",
    "# abilityName = response.json()['abilities'][2]['ability']['name']\n",
    "# abilityName\n",
    "\n",
    "# baseXP = response.json()['base_experience']\n",
    "# baseXP\n",
    "\n",
    "# shiny = response.json()['sprites']['front_shiny']\n",
    "# shiny\n",
    "\n",
    "# attack = response.json()['stats'][1]['stat']\n",
    "# attack\n",
    "\n",
    "# hp = response.json()['stats'][0]['stat']\n",
    "# hp\n",
    "\n",
    "# defense = response.json()['stats'][2]['stat']\n",
    "# defense\n",
    "\n",
    "## PIDGEOTTO\n",
    "abilityName = response.json()['abilities'][0]['ability']['name']\n",
    "abilityName\n",
    "\n",
    "baseXP = response.json()['base_experience']\n",
    "baseXP\n",
    "\n",
    "shiny = response.json()['sprites']['front_shiny']\n",
    "shiny\n",
    "\n",
    "attack = response.json()['stats'][1]['stat']\n",
    "attack\n",
    "\n",
    "hp = response.json()['stats'][0]['stat']\n",
    "hp\n",
    "\n",
    "defense = response.json()['stats'][2]['stat']\n",
    "defense"
   ]
  }
 ],
 "metadata": {
  "kernelspec": {
   "display_name": "Python 3 (ipykernel)",
   "language": "python",
   "name": "python3"
  },
  "language_info": {
   "codemirror_mode": {
    "name": "ipython",
    "version": 3
   },
   "file_extension": ".py",
   "mimetype": "text/x-python",
   "name": "python",
   "nbconvert_exporter": "python",
   "pygments_lexer": "ipython3",
   "version": "3.9.13"
  },
  "vscode": {
   "interpreter": {
    "hash": "aee8b7b246df8f9039afb4144a1f6fd8d2ca17a180786b69acc140d282b71a49"
   }
  }
 },
 "nbformat": 4,
 "nbformat_minor": 5
}
